{
 "cells": [
  {
   "cell_type": "code",
   "execution_count": 9,
   "id": "6a7c3c0d-08a5-4717-b4ac-3203231fbd5f",
   "metadata": {},
   "outputs": [
    {
     "name": "stderr",
     "output_type": "stream",
     "text": [
      "2025-10-22 19:37:33.484 Thread 'MainThread': missing ScriptRunContext! This warning can be ignored when running in bare mode.\n",
      "2025-10-22 19:37:33.484 Thread 'MainThread': missing ScriptRunContext! This warning can be ignored when running in bare mode.\n",
      "2025-10-22 19:37:33.485 Thread 'MainThread': missing ScriptRunContext! This warning can be ignored when running in bare mode.\n",
      "2025-10-22 19:37:33.485 Thread 'MainThread': missing ScriptRunContext! This warning can be ignored when running in bare mode.\n",
      "2025-10-22 19:37:33.485 Thread 'MainThread': missing ScriptRunContext! This warning can be ignored when running in bare mode.\n",
      "2025-10-22 19:37:33.486 Thread 'MainThread': missing ScriptRunContext! This warning can be ignored when running in bare mode.\n",
      "2025-10-22 19:37:33.487 Thread 'MainThread': missing ScriptRunContext! This warning can be ignored when running in bare mode.\n",
      "2025-10-22 19:37:33.487 Thread 'MainThread': missing ScriptRunContext! This warning can be ignored when running in bare mode.\n",
      "2025-10-22 19:37:33.487 Thread 'MainThread': missing ScriptRunContext! This warning can be ignored when running in bare mode.\n",
      "2025-10-22 19:37:33.487 Thread 'MainThread': missing ScriptRunContext! This warning can be ignored when running in bare mode.\n",
      "2025-10-22 19:37:33.488 Thread 'MainThread': missing ScriptRunContext! This warning can be ignored when running in bare mode.\n",
      "2025-10-22 19:37:33.488 Thread 'MainThread': missing ScriptRunContext! This warning can be ignored when running in bare mode.\n",
      "2025-10-22 19:37:33.488 Thread 'MainThread': missing ScriptRunContext! This warning can be ignored when running in bare mode.\n",
      "2025-10-22 19:37:33.492 Thread 'MainThread': missing ScriptRunContext! This warning can be ignored when running in bare mode.\n",
      "2025-10-22 19:37:33.492 Thread 'MainThread': missing ScriptRunContext! This warning can be ignored when running in bare mode.\n",
      "2025-10-22 19:37:33.492 Thread 'MainThread': missing ScriptRunContext! This warning can be ignored when running in bare mode.\n",
      "2025-10-22 19:37:33.492 Thread 'MainThread': missing ScriptRunContext! This warning can be ignored when running in bare mode.\n",
      "2025-10-22 19:37:33.493 Thread 'MainThread': missing ScriptRunContext! This warning can be ignored when running in bare mode.\n",
      "2025-10-22 19:37:33.493 Thread 'MainThread': missing ScriptRunContext! This warning can be ignored when running in bare mode.\n",
      "2025-10-22 19:37:33.493 Thread 'MainThread': missing ScriptRunContext! This warning can be ignored when running in bare mode.\n",
      "2025-10-22 19:37:33.494 Thread 'MainThread': missing ScriptRunContext! This warning can be ignored when running in bare mode.\n",
      "2025-10-22 19:37:33.494 Thread 'MainThread': missing ScriptRunContext! This warning can be ignored when running in bare mode.\n",
      "2025-10-22 19:37:33.494 Thread 'MainThread': missing ScriptRunContext! This warning can be ignored when running in bare mode.\n",
      "2025-10-22 19:37:33.501 Thread 'MainThread': missing ScriptRunContext! This warning can be ignored when running in bare mode.\n",
      "2025-10-22 19:37:33.611 Thread 'MainThread': missing ScriptRunContext! This warning can be ignored when running in bare mode.\n",
      "2025-10-22 19:37:33.612 Thread 'MainThread': missing ScriptRunContext! This warning can be ignored when running in bare mode.\n",
      "2025-10-22 19:37:33.612 Thread 'MainThread': missing ScriptRunContext! This warning can be ignored when running in bare mode.\n",
      "2025-10-22 19:37:33.612 Thread 'MainThread': missing ScriptRunContext! This warning can be ignored when running in bare mode.\n",
      "2025-10-22 19:37:33.613 Thread 'MainThread': missing ScriptRunContext! This warning can be ignored when running in bare mode.\n",
      "2025-10-22 19:37:33.613 Thread 'MainThread': missing ScriptRunContext! This warning can be ignored when running in bare mode.\n",
      "2025-10-22 19:37:33.614 Thread 'MainThread': missing ScriptRunContext! This warning can be ignored when running in bare mode.\n",
      "2025-10-22 19:37:33.614 Thread 'MainThread': missing ScriptRunContext! This warning can be ignored when running in bare mode.\n",
      "2025-10-22 19:37:33.614 Thread 'MainThread': missing ScriptRunContext! This warning can be ignored when running in bare mode.\n",
      "2025-10-22 19:37:33.617 Thread 'MainThread': missing ScriptRunContext! This warning can be ignored when running in bare mode.\n",
      "2025-10-22 19:37:33.618 Thread 'MainThread': missing ScriptRunContext! This warning can be ignored when running in bare mode.\n",
      "2025-10-22 19:37:33.618 Thread 'MainThread': missing ScriptRunContext! This warning can be ignored when running in bare mode.\n",
      "2025-10-22 19:37:33.618 Thread 'MainThread': missing ScriptRunContext! This warning can be ignored when running in bare mode.\n",
      "2025-10-22 19:37:33.618 Thread 'MainThread': missing ScriptRunContext! This warning can be ignored when running in bare mode.\n",
      "2025-10-22 19:37:33.619 Thread 'MainThread': missing ScriptRunContext! This warning can be ignored when running in bare mode.\n",
      "2025-10-22 19:37:33.619 Thread 'MainThread': missing ScriptRunContext! This warning can be ignored when running in bare mode.\n"
     ]
    },
    {
     "data": {
      "text/plain": [
       "False"
      ]
     },
     "execution_count": 9,
     "metadata": {},
     "output_type": "execute_result"
    }
   ],
   "source": [
    "import streamlit as st\n",
    "import pandas as pd\n",
    "import matplotlib.pyplot as plt\n",
    "import os\n",
    "\n",
    "# App title\n",
    "st.title(\"🌍 Future Climate Prediction (2025–2075)\")\n",
    "st.markdown(\"Using LSTM to forecast weather and CO₂ levels for the next 50 years.\")\n",
    "\n",
    "# Available cities\n",
    "PREDICTIONS_DIR = \"predictions\"\n",
    "cities = sorted([f.split('_')[0] for f in os.listdir(PREDICTIONS_DIR) if f.endswith('_predictions.csv')])\n",
    "\n",
    "# City selection\n",
    "selected_city = st.selectbox(\"Select a City\", cities)\n",
    "\n",
    "# Load predictions\n",
    "file_path = os.path.join(PREDICTIONS_DIR, f\"{selected_city}_predictions.csv\")\n",
    "df = pd.read_csv(file_path)\n",
    "df[\"Date\"] = pd.to_datetime(df[\"Date\"])\n",
    "\n",
    "# Feature selection\n",
    "feature = st.selectbox(\"Select Feature to View\", [\"Temperature\", \"Humidity\", \"WindSpeed\", \"CO2\"])\n",
    "\n",
    "# Plot\n",
    "st.subheader(f\"📈 {feature} Forecast for {selected_city}\")\n",
    "fig, ax = plt.subplots(figsize=(10, 4))\n",
    "ax.plot(df[\"Date\"], df[feature], label=feature)\n",
    "ax.set_xlabel(\"Year\")\n",
    "ax.set_ylabel(feature)\n",
    "ax.set_title(f\"{feature} Forecast for {selected_city} (2025–2075)\")\n",
    "st.pyplot(fig)\n",
    "\n",
    "# Show data table\n",
    "if st.checkbox(\"Show Raw Data\"):\n",
    "    st.dataframe(df[[\"Date\", feature]])\n",
    "\n",
    "# Download option\n",
    "csv = df.to_csv(index=False)\n",
    "st.download_button(\"Download Full Prediction CSV\", csv, file_name=f\"{selected_city}_predictions.csv\", mime=\"text/csv\")\n"
   ]
  }
 ],
 "metadata": {
  "kernelspec": {
   "display_name": "Python 3 (ipykernel)",
   "language": "python",
   "name": "python3"
  },
  "language_info": {
   "codemirror_mode": {
    "name": "ipython",
    "version": 3
   },
   "file_extension": ".py",
   "mimetype": "text/x-python",
   "name": "python",
   "nbconvert_exporter": "python",
   "pygments_lexer": "ipython3",
   "version": "3.13.0"
  }
 },
 "nbformat": 4,
 "nbformat_minor": 5
}
